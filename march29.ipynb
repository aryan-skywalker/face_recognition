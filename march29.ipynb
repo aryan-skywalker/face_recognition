{
 "cells": [
  {
   "cell_type": "code",
   "execution_count": 11,
   "id": "4d04557f",
   "metadata": {},
   "outputs": [
    {
     "name": "stdout",
     "output_type": "stream",
     "text": [
      "2005716 says: \n",
      " My name is Anakin.\n",
      " 2005716 says: \n",
      "    My name is ANAKIN.\n"
     ]
    }
   ],
   "source": [
    "name = 'Anakin'\n",
    "roll = 2005716\n",
    "print (\"%d says: \\n My name is %s.\" %(roll,name))\n",
    "print (f''' {roll} says: \n",
    "    My name is {name.upper()}.''') # identation and line break without \\n"
   ]
  },
  {
   "cell_type": "code",
   "execution_count": 3,
   "id": "f6fa90cb",
   "metadata": {},
   "outputs": [
    {
     "name": "stdout",
     "output_type": "stream",
     "text": [
      "True\n",
      "False\n",
      "True\n"
     ]
    }
   ],
   "source": [
    "print (\"12345\".isnumeric())\n",
    "print (\"12345abc\".isnumeric())\n",
    "print (\"12345abc\".isalnum()) # alphanumeric"
   ]
  },
  {
   "cell_type": "code",
   "execution_count": 4,
   "id": "b177bab1",
   "metadata": {},
   "outputs": [
    {
     "name": "stdout",
     "output_type": "stream",
     "text": [
      "1\n",
      "-1\n",
      "Searching all instances of at\n",
      "1\n",
      "6\n",
      "11\n",
      "-1\n"
     ]
    }
   ],
   "source": [
    "s = \"Cats hate water\"\n",
    "print (s.find('at'))\n",
    "print (s.find('bt'))\n",
    "print (\"Searching all instances of at\")\n",
    "idx = -1\n",
    "while True:\n",
    "    idx = s.find('at',idx+1)\n",
    "    print (idx)\n",
    "    if idx == -1 : break"
   ]
  },
  {
   "cell_type": "markdown",
   "id": "27f46c57",
   "metadata": {},
   "source": [
    "# Re\n"
   ]
  },
  {
   "cell_type": "code",
   "execution_count": 5,
   "id": "2207f792",
   "metadata": {},
   "outputs": [
    {
     "name": "stdout",
     "output_type": "stream",
     "text": [
      "True\n",
      "False\n",
      "True\n",
      "True\n",
      "True\n"
     ]
    }
   ],
   "source": [
    "import re\n",
    "\n",
    "print(re.match(\"(ab)+\", \"ababab\")is not None)\n",
    "print(re.match(\"(ab)+\", \"\")is not None)\n",
    "print(re.match(\"(ab)*\", \"ababababababab\")is not None)\n",
    "print(re.match(\"(ab)*\", \"\")is not None)\n",
    "print(re.match(\"(ab)*$\", \"ababababababab\")is not None) # means end of the string is b"
   ]
  },
  {
   "cell_type": "code",
   "execution_count": 6,
   "id": "1cc00778",
   "metadata": {},
   "outputs": [
    {
     "name": "stdout",
     "output_type": "stream",
     "text": [
      "False\n",
      "True\n",
      "False\n"
     ]
    }
   ],
   "source": [
    "#check letter-word\n",
    "\n",
    "print(re.match(\"^...$\", \"ab\")is not None)\n",
    "print(re.match(\"^...$\", \"abc\")is not None) # 3 \n",
    "print(re.match(\"^...$\", \"abcd\")is not None)\n"
   ]
  },
  {
   "cell_type": "code",
   "execution_count": 7,
   "id": "1ae8dbe7",
   "metadata": {},
   "outputs": [
    {
     "name": "stdout",
     "output_type": "stream",
     "text": [
      "True\n",
      "True\n",
      "False\n",
      "True\n",
      "False\n",
      "False\n"
     ]
    }
   ],
   "source": [
    "print(re.match(\"^\\d{7}\\d?$\",\"20050199\")is not None)\n",
    "print(re.match(\"^\\d{7}\\d?$\",\"2005019\")is not None)\n",
    "print(re.match(\"^\\d{7}\\d?$\",\"2005\")is not None)\n",
    "print(re.match(\"^\\d{7}\\d?$\",\"20050199\")is not None)\n",
    "print(re.match(\"^\\d{7}\\d?$\",\"200501919191919\")is not None)\n",
    "print(re.match(\"^\\d{7}\\d?$\",\"2005abc\")is not None)"
   ]
  },
  {
   "cell_type": "code",
   "execution_count": 8,
   "id": "3e9b0904",
   "metadata": {},
   "outputs": [
    {
     "name": "stdout",
     "output_type": "stream",
     "text": [
      "False\n",
      "True\n",
      "False\n"
     ]
    }
   ],
   "source": [
    "print(re.match(\"^(abc){2}$\",\"abc\")is not None)\n",
    "print(re.match(\"^(abc){2}$\",\"abcabc\")is not None)\n",
    "print(re.match(\"^(abc){2}$\",\"abcabcabcabc\")is not None)"
   ]
  },
  {
   "cell_type": "code",
   "execution_count": 9,
   "id": "73325b3a",
   "metadata": {},
   "outputs": [
    {
     "name": "stdout",
     "output_type": "stream",
     "text": [
      "True\n",
      "False\n",
      "False\n"
     ]
    }
   ],
   "source": [
    "print(re.match(\"^[A-Za-z]\\w+([_.]\\w+)@\\w+\\.\\w+$\",\"ab1c.ab_ca_bc@pqr.com\")is not None)\n",
    "print(re.match(\"^[A-Za-z]\\w+([_.]\\w+)@\\w+\\.\\w+$\",\"1abc.abc@pqr.com\")is not None)\n",
    "print(re.match(\"^[A-Za-z]\\w+([_.]\\w+)@\\w+\\.\\w+$\",\"abc.abc_pqr.com\")is not None)"
   ]
  },
  {
   "cell_type": "code",
   "execution_count": null,
   "id": "b7dbda2f",
   "metadata": {},
   "outputs": [],
   "source": []
  }
 ],
 "metadata": {
  "kernelspec": {
   "display_name": "Python 3 (ipykernel)",
   "language": "python",
   "name": "python3"
  },
  "language_info": {
   "codemirror_mode": {
    "name": "ipython",
    "version": 3
   },
   "file_extension": ".py",
   "mimetype": "text/x-python",
   "name": "python",
   "nbconvert_exporter": "python",
   "pygments_lexer": "ipython3",
   "version": "3.11.2"
  }
 },
 "nbformat": 4,
 "nbformat_minor": 5
}
